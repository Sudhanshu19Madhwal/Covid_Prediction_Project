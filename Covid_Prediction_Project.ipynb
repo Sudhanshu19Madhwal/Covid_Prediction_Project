{
 "cells": [
  {
   "cell_type": "markdown",
   "id": "fe5847c0",
   "metadata": {},
   "source": [
    "# INTRODUCTION"
   ]
  },
  {
   "cell_type": "markdown",
   "id": "3e587e4b",
   "metadata": {},
   "source": [
    "The outbreak of COVID-19 has become a global health crisis, affecting millions of people worldwide. With the increase in the number of cases, it is essential to identify individuals who may be infected with COVID-19. This can be done by analyzing their symptoms and demographic information.\n",
    "\n",
    "In this project, we will use machine learning algorithms to predict whether an individual is positive or negative for COVID-19 based on their symptoms and demographic information. We will explore the dataset, preprocess it, and use various machine learning algorithms to build predictive models.\n",
    "\n",
    "We will compare the performance of five models: Logistic Regression, Decision Tree, Random Forest, XGBoost, and Support Vector Machine (SVM). We will evaluate the models based on various metrics such as accuracy, precision, recall, and F1 score. We will also use cross-validation techniques to estimate the models' generalization performance on new data.\n",
    "\n",
    "The goal of this project is to identify the best performing model and use it to predict the COVID-19 status of an individual based on their symptoms and demographic information. This could potentially help healthcare providers to identify and isolate COVID-19 positive individuals and prevent the spread of the virus.\n"
   ]
  },
  {
   "cell_type": "markdown",
   "id": "1b991878",
   "metadata": {},
   "source": [
    "**IMPORTING PACKAGES**"
   ]
  },
  {
   "cell_type": "code",
   "execution_count": 1,
   "id": "d861b74c",
   "metadata": {},
   "outputs": [],
   "source": [
    "import pandas as pd # data processing\n",
    "import numpy as np # working with arrays\n",
    "import matplotlib.pyplot as plt # visualization\n",
    "import seaborn as sns # visualization\n",
    "import warnings # Supress Warnings\n",
    "warnings.filterwarnings('ignore')\n",
    "\n",
    "from sklearn.metrics import accuracy_score, confusion_matrix\n",
    "\n",
    "sns.set_style('whitegrid') # plot style\n",
    "plt.rcParams['figure.figsize'] = (10, 5) # plot size"
   ]
  },
  {
   "cell_type": "markdown",
   "id": "333315bf",
   "metadata": {},
   "source": [
    "**IMPORTING DATA**"
   ]
  },
  {
   "cell_type": "code",
   "execution_count": 2,
   "id": "f5742631",
   "metadata": {},
   "outputs": [],
   "source": [
    "df = pd.read_csv(r\"C:\\Users\\ASUS\\Desktop\\projects\\covid project\\corona_tested_006.csv\")"
   ]
  },
  {
   "cell_type": "markdown",
   "id": "382a3376",
   "metadata": {},
   "source": [
    "**CHECKING THE FIRST FIVE OBSERVATION**"
   ]
  },
  {
   "cell_type": "code",
   "execution_count": 3,
   "id": "51c37582",
   "metadata": {
    "scrolled": true
   },
   "outputs": [
    {
     "data": {
      "text/html": [
       "<div>\n",
       "<style scoped>\n",
       "    .dataframe tbody tr th:only-of-type {\n",
       "        vertical-align: middle;\n",
       "    }\n",
       "\n",
       "    .dataframe tbody tr th {\n",
       "        vertical-align: top;\n",
       "    }\n",
       "\n",
       "    .dataframe thead th {\n",
       "        text-align: right;\n",
       "    }\n",
       "</style>\n",
       "<table border=\"1\" class=\"dataframe\">\n",
       "  <thead>\n",
       "    <tr style=\"text-align: right;\">\n",
       "      <th></th>\n",
       "      <th>Ind_ID</th>\n",
       "      <th>Test_date</th>\n",
       "      <th>Cough_symptoms</th>\n",
       "      <th>Fever</th>\n",
       "      <th>Sore_throat</th>\n",
       "      <th>Shortness_of_breath</th>\n",
       "      <th>Headache</th>\n",
       "      <th>Corona</th>\n",
       "      <th>Age_60_above</th>\n",
       "      <th>Sex</th>\n",
       "      <th>Known_contact</th>\n",
       "    </tr>\n",
       "  </thead>\n",
       "  <tbody>\n",
       "    <tr>\n",
       "      <th>0</th>\n",
       "      <td>1</td>\n",
       "      <td>11-03-2020</td>\n",
       "      <td>TRUE</td>\n",
       "      <td>FALSE</td>\n",
       "      <td>TRUE</td>\n",
       "      <td>FALSE</td>\n",
       "      <td>FALSE</td>\n",
       "      <td>negative</td>\n",
       "      <td>None</td>\n",
       "      <td>None</td>\n",
       "      <td>Abroad</td>\n",
       "    </tr>\n",
       "    <tr>\n",
       "      <th>1</th>\n",
       "      <td>2</td>\n",
       "      <td>11-03-2020</td>\n",
       "      <td>FALSE</td>\n",
       "      <td>TRUE</td>\n",
       "      <td>FALSE</td>\n",
       "      <td>FALSE</td>\n",
       "      <td>FALSE</td>\n",
       "      <td>positive</td>\n",
       "      <td>None</td>\n",
       "      <td>None</td>\n",
       "      <td>Abroad</td>\n",
       "    </tr>\n",
       "    <tr>\n",
       "      <th>2</th>\n",
       "      <td>3</td>\n",
       "      <td>11-03-2020</td>\n",
       "      <td>FALSE</td>\n",
       "      <td>TRUE</td>\n",
       "      <td>FALSE</td>\n",
       "      <td>FALSE</td>\n",
       "      <td>FALSE</td>\n",
       "      <td>positive</td>\n",
       "      <td>None</td>\n",
       "      <td>None</td>\n",
       "      <td>Abroad</td>\n",
       "    </tr>\n",
       "    <tr>\n",
       "      <th>3</th>\n",
       "      <td>4</td>\n",
       "      <td>11-03-2020</td>\n",
       "      <td>TRUE</td>\n",
       "      <td>FALSE</td>\n",
       "      <td>FALSE</td>\n",
       "      <td>FALSE</td>\n",
       "      <td>FALSE</td>\n",
       "      <td>negative</td>\n",
       "      <td>None</td>\n",
       "      <td>None</td>\n",
       "      <td>Abroad</td>\n",
       "    </tr>\n",
       "    <tr>\n",
       "      <th>4</th>\n",
       "      <td>5</td>\n",
       "      <td>11-03-2020</td>\n",
       "      <td>TRUE</td>\n",
       "      <td>FALSE</td>\n",
       "      <td>FALSE</td>\n",
       "      <td>FALSE</td>\n",
       "      <td>FALSE</td>\n",
       "      <td>negative</td>\n",
       "      <td>None</td>\n",
       "      <td>None</td>\n",
       "      <td>Contact with confirmed</td>\n",
       "    </tr>\n",
       "  </tbody>\n",
       "</table>\n",
       "</div>"
      ],
      "text/plain": [
       "   Ind_ID   Test_date Cough_symptoms  Fever Sore_throat Shortness_of_breath  \\\n",
       "0       1  11-03-2020           TRUE  FALSE        TRUE               FALSE   \n",
       "1       2  11-03-2020          FALSE   TRUE       FALSE               FALSE   \n",
       "2       3  11-03-2020          FALSE   TRUE       FALSE               FALSE   \n",
       "3       4  11-03-2020           TRUE  FALSE       FALSE               FALSE   \n",
       "4       5  11-03-2020           TRUE  FALSE       FALSE               FALSE   \n",
       "\n",
       "  Headache    Corona Age_60_above   Sex           Known_contact  \n",
       "0    FALSE  negative         None  None                  Abroad  \n",
       "1    FALSE  positive         None  None                  Abroad  \n",
       "2    FALSE  positive         None  None                  Abroad  \n",
       "3    FALSE  negative         None  None                  Abroad  \n",
       "4    FALSE  negative         None  None  Contact with confirmed  "
      ]
     },
     "execution_count": 3,
     "metadata": {},
     "output_type": "execute_result"
    }
   ],
   "source": [
    "df.head()"
   ]
  },
  {
   "cell_type": "markdown",
   "id": "8f88f384",
   "metadata": {},
   "source": [
    "**CHECKING THE LAST FIVE OBSERVATION**"
   ]
  },
  {
   "cell_type": "code",
   "execution_count": 4,
   "id": "bfa44f85",
   "metadata": {
    "scrolled": false
   },
   "outputs": [
    {
     "data": {
      "text/html": [
       "<div>\n",
       "<style scoped>\n",
       "    .dataframe tbody tr th:only-of-type {\n",
       "        vertical-align: middle;\n",
       "    }\n",
       "\n",
       "    .dataframe tbody tr th {\n",
       "        vertical-align: top;\n",
       "    }\n",
       "\n",
       "    .dataframe thead th {\n",
       "        text-align: right;\n",
       "    }\n",
       "</style>\n",
       "<table border=\"1\" class=\"dataframe\">\n",
       "  <thead>\n",
       "    <tr style=\"text-align: right;\">\n",
       "      <th></th>\n",
       "      <th>Ind_ID</th>\n",
       "      <th>Test_date</th>\n",
       "      <th>Cough_symptoms</th>\n",
       "      <th>Fever</th>\n",
       "      <th>Sore_throat</th>\n",
       "      <th>Shortness_of_breath</th>\n",
       "      <th>Headache</th>\n",
       "      <th>Corona</th>\n",
       "      <th>Age_60_above</th>\n",
       "      <th>Sex</th>\n",
       "      <th>Known_contact</th>\n",
       "    </tr>\n",
       "  </thead>\n",
       "  <tbody>\n",
       "    <tr>\n",
       "      <th>278843</th>\n",
       "      <td>278844</td>\n",
       "      <td>30-04-2020</td>\n",
       "      <td>False</td>\n",
       "      <td>False</td>\n",
       "      <td>False</td>\n",
       "      <td>False</td>\n",
       "      <td>False</td>\n",
       "      <td>positive</td>\n",
       "      <td>None</td>\n",
       "      <td>male</td>\n",
       "      <td>Other</td>\n",
       "    </tr>\n",
       "    <tr>\n",
       "      <th>278844</th>\n",
       "      <td>278845</td>\n",
       "      <td>30-04-2020</td>\n",
       "      <td>False</td>\n",
       "      <td>False</td>\n",
       "      <td>False</td>\n",
       "      <td>False</td>\n",
       "      <td>False</td>\n",
       "      <td>negative</td>\n",
       "      <td>None</td>\n",
       "      <td>female</td>\n",
       "      <td>Other</td>\n",
       "    </tr>\n",
       "    <tr>\n",
       "      <th>278845</th>\n",
       "      <td>278846</td>\n",
       "      <td>30-04-2020</td>\n",
       "      <td>False</td>\n",
       "      <td>False</td>\n",
       "      <td>False</td>\n",
       "      <td>False</td>\n",
       "      <td>False</td>\n",
       "      <td>negative</td>\n",
       "      <td>None</td>\n",
       "      <td>male</td>\n",
       "      <td>Other</td>\n",
       "    </tr>\n",
       "    <tr>\n",
       "      <th>278846</th>\n",
       "      <td>278847</td>\n",
       "      <td>30-04-2020</td>\n",
       "      <td>False</td>\n",
       "      <td>False</td>\n",
       "      <td>False</td>\n",
       "      <td>False</td>\n",
       "      <td>False</td>\n",
       "      <td>negative</td>\n",
       "      <td>None</td>\n",
       "      <td>male</td>\n",
       "      <td>Other</td>\n",
       "    </tr>\n",
       "    <tr>\n",
       "      <th>278847</th>\n",
       "      <td>278848</td>\n",
       "      <td>30-04-2020</td>\n",
       "      <td>False</td>\n",
       "      <td>False</td>\n",
       "      <td>False</td>\n",
       "      <td>False</td>\n",
       "      <td>False</td>\n",
       "      <td>negative</td>\n",
       "      <td>None</td>\n",
       "      <td>female</td>\n",
       "      <td>Other</td>\n",
       "    </tr>\n",
       "  </tbody>\n",
       "</table>\n",
       "</div>"
      ],
      "text/plain": [
       "        Ind_ID   Test_date Cough_symptoms  Fever Sore_throat  \\\n",
       "278843  278844  30-04-2020          False  False       False   \n",
       "278844  278845  30-04-2020          False  False       False   \n",
       "278845  278846  30-04-2020          False  False       False   \n",
       "278846  278847  30-04-2020          False  False       False   \n",
       "278847  278848  30-04-2020          False  False       False   \n",
       "\n",
       "       Shortness_of_breath Headache    Corona Age_60_above     Sex  \\\n",
       "278843               False    False  positive         None    male   \n",
       "278844               False    False  negative         None  female   \n",
       "278845               False    False  negative         None    male   \n",
       "278846               False    False  negative         None    male   \n",
       "278847               False    False  negative         None  female   \n",
       "\n",
       "       Known_contact  \n",
       "278843         Other  \n",
       "278844         Other  \n",
       "278845         Other  \n",
       "278846         Other  \n",
       "278847         Other  "
      ]
     },
     "execution_count": 4,
     "metadata": {},
     "output_type": "execute_result"
    }
   ],
   "source": [
    "df.tail()"
   ]
  },
  {
   "cell_type": "markdown",
   "id": "fc0f6989",
   "metadata": {},
   "source": [
    "# DATA INSPECTION"
   ]
  },
  {
   "cell_type": "code",
   "execution_count": 5,
   "id": "e5fb14ae",
   "metadata": {},
   "outputs": [
    {
     "data": {
      "text/plain": [
       "(278848, 11)"
      ]
     },
     "execution_count": 5,
     "metadata": {},
     "output_type": "execute_result"
    }
   ],
   "source": [
    "df.shape"
   ]
  },
  {
   "cell_type": "markdown",
   "id": "5d02f4be",
   "metadata": {},
   "source": [
    "**NO. OF ROWS AND COLUMNS**"
   ]
  },
  {
   "cell_type": "code",
   "execution_count": 6,
   "id": "7f180478",
   "metadata": {
    "scrolled": true
   },
   "outputs": [
    {
     "name": "stdout",
     "output_type": "stream",
     "text": [
      "NO OF ROWS:  278848\n",
      "NO OF COLUMNS :  11\n"
     ]
    }
   ],
   "source": [
    "print('NO OF ROWS: ',df.shape[0])\n",
    "print('NO OF COLUMNS : ',df.shape[1])"
   ]
  },
  {
   "cell_type": "markdown",
   "id": "f3154aa7",
   "metadata": {},
   "source": [
    "**CHECKING DATA-TYPES OF ALL THE COLUMNS**"
   ]
  },
  {
   "cell_type": "code",
   "execution_count": 7,
   "id": "a80f1499",
   "metadata": {
    "scrolled": false
   },
   "outputs": [
    {
     "name": "stdout",
     "output_type": "stream",
     "text": [
      "<class 'pandas.core.frame.DataFrame'>\n",
      "RangeIndex: 278848 entries, 0 to 278847\n",
      "Data columns (total 11 columns):\n",
      " #   Column               Non-Null Count   Dtype \n",
      "---  ------               --------------   ----- \n",
      " 0   Ind_ID               278848 non-null  int64 \n",
      " 1   Test_date            278848 non-null  object\n",
      " 2   Cough_symptoms       278848 non-null  object\n",
      " 3   Fever                278848 non-null  object\n",
      " 4   Sore_throat          278848 non-null  object\n",
      " 5   Shortness_of_breath  278848 non-null  object\n",
      " 6   Headache             278848 non-null  object\n",
      " 7   Corona               278848 non-null  object\n",
      " 8   Age_60_above         278848 non-null  object\n",
      " 9   Sex                  278848 non-null  object\n",
      " 10  Known_contact        278848 non-null  object\n",
      "dtypes: int64(1), object(10)\n",
      "memory usage: 23.4+ MB\n"
     ]
    }
   ],
   "source": [
    "df.info()"
   ]
  },
  {
   "cell_type": "markdown",
   "id": "59c75a57",
   "metadata": {},
   "source": [
    "**FIVE POINT SUMMARY OF THE NUMERICAL & CATEGORICAL DATA**"
   ]
  },
  {
   "cell_type": "code",
   "execution_count": 8,
   "id": "edad3287",
   "metadata": {
    "scrolled": true
   },
   "outputs": [
    {
     "data": {
      "text/html": [
       "<div>\n",
       "<style scoped>\n",
       "    .dataframe tbody tr th:only-of-type {\n",
       "        vertical-align: middle;\n",
       "    }\n",
       "\n",
       "    .dataframe tbody tr th {\n",
       "        vertical-align: top;\n",
       "    }\n",
       "\n",
       "    .dataframe thead th {\n",
       "        text-align: right;\n",
       "    }\n",
       "</style>\n",
       "<table border=\"1\" class=\"dataframe\">\n",
       "  <thead>\n",
       "    <tr style=\"text-align: right;\">\n",
       "      <th></th>\n",
       "      <th>Ind_ID</th>\n",
       "      <th>Test_date</th>\n",
       "      <th>Cough_symptoms</th>\n",
       "      <th>Fever</th>\n",
       "      <th>Sore_throat</th>\n",
       "      <th>Shortness_of_breath</th>\n",
       "      <th>Headache</th>\n",
       "      <th>Corona</th>\n",
       "      <th>Age_60_above</th>\n",
       "      <th>Sex</th>\n",
       "      <th>Known_contact</th>\n",
       "    </tr>\n",
       "  </thead>\n",
       "  <tbody>\n",
       "    <tr>\n",
       "      <th>count</th>\n",
       "      <td>278848.000000</td>\n",
       "      <td>278848</td>\n",
       "      <td>278848</td>\n",
       "      <td>278848</td>\n",
       "      <td>278848</td>\n",
       "      <td>278848</td>\n",
       "      <td>278848</td>\n",
       "      <td>278848</td>\n",
       "      <td>278848</td>\n",
       "      <td>278848</td>\n",
       "      <td>278848</td>\n",
       "    </tr>\n",
       "    <tr>\n",
       "      <th>unique</th>\n",
       "      <td>NaN</td>\n",
       "      <td>51</td>\n",
       "      <td>5</td>\n",
       "      <td>5</td>\n",
       "      <td>5</td>\n",
       "      <td>5</td>\n",
       "      <td>5</td>\n",
       "      <td>3</td>\n",
       "      <td>3</td>\n",
       "      <td>3</td>\n",
       "      <td>3</td>\n",
       "    </tr>\n",
       "    <tr>\n",
       "      <th>top</th>\n",
       "      <td>NaN</td>\n",
       "      <td>20-04-2020</td>\n",
       "      <td>False</td>\n",
       "      <td>False</td>\n",
       "      <td>False</td>\n",
       "      <td>False</td>\n",
       "      <td>False</td>\n",
       "      <td>negative</td>\n",
       "      <td>None</td>\n",
       "      <td>female</td>\n",
       "      <td>Other</td>\n",
       "    </tr>\n",
       "    <tr>\n",
       "      <th>freq</th>\n",
       "      <td>NaN</td>\n",
       "      <td>10921</td>\n",
       "      <td>127531</td>\n",
       "      <td>137774</td>\n",
       "      <td>212584</td>\n",
       "      <td>212842</td>\n",
       "      <td>212326</td>\n",
       "      <td>260227</td>\n",
       "      <td>127320</td>\n",
       "      <td>130158</td>\n",
       "      <td>242741</td>\n",
       "    </tr>\n",
       "    <tr>\n",
       "      <th>mean</th>\n",
       "      <td>139424.500000</td>\n",
       "      <td>NaN</td>\n",
       "      <td>NaN</td>\n",
       "      <td>NaN</td>\n",
       "      <td>NaN</td>\n",
       "      <td>NaN</td>\n",
       "      <td>NaN</td>\n",
       "      <td>NaN</td>\n",
       "      <td>NaN</td>\n",
       "      <td>NaN</td>\n",
       "      <td>NaN</td>\n",
       "    </tr>\n",
       "    <tr>\n",
       "      <th>std</th>\n",
       "      <td>80496.628269</td>\n",
       "      <td>NaN</td>\n",
       "      <td>NaN</td>\n",
       "      <td>NaN</td>\n",
       "      <td>NaN</td>\n",
       "      <td>NaN</td>\n",
       "      <td>NaN</td>\n",
       "      <td>NaN</td>\n",
       "      <td>NaN</td>\n",
       "      <td>NaN</td>\n",
       "      <td>NaN</td>\n",
       "    </tr>\n",
       "    <tr>\n",
       "      <th>min</th>\n",
       "      <td>1.000000</td>\n",
       "      <td>NaN</td>\n",
       "      <td>NaN</td>\n",
       "      <td>NaN</td>\n",
       "      <td>NaN</td>\n",
       "      <td>NaN</td>\n",
       "      <td>NaN</td>\n",
       "      <td>NaN</td>\n",
       "      <td>NaN</td>\n",
       "      <td>NaN</td>\n",
       "      <td>NaN</td>\n",
       "    </tr>\n",
       "    <tr>\n",
       "      <th>25%</th>\n",
       "      <td>69712.750000</td>\n",
       "      <td>NaN</td>\n",
       "      <td>NaN</td>\n",
       "      <td>NaN</td>\n",
       "      <td>NaN</td>\n",
       "      <td>NaN</td>\n",
       "      <td>NaN</td>\n",
       "      <td>NaN</td>\n",
       "      <td>NaN</td>\n",
       "      <td>NaN</td>\n",
       "      <td>NaN</td>\n",
       "    </tr>\n",
       "    <tr>\n",
       "      <th>50%</th>\n",
       "      <td>139424.500000</td>\n",
       "      <td>NaN</td>\n",
       "      <td>NaN</td>\n",
       "      <td>NaN</td>\n",
       "      <td>NaN</td>\n",
       "      <td>NaN</td>\n",
       "      <td>NaN</td>\n",
       "      <td>NaN</td>\n",
       "      <td>NaN</td>\n",
       "      <td>NaN</td>\n",
       "      <td>NaN</td>\n",
       "    </tr>\n",
       "    <tr>\n",
       "      <th>75%</th>\n",
       "      <td>209136.250000</td>\n",
       "      <td>NaN</td>\n",
       "      <td>NaN</td>\n",
       "      <td>NaN</td>\n",
       "      <td>NaN</td>\n",
       "      <td>NaN</td>\n",
       "      <td>NaN</td>\n",
       "      <td>NaN</td>\n",
       "      <td>NaN</td>\n",
       "      <td>NaN</td>\n",
       "      <td>NaN</td>\n",
       "    </tr>\n",
       "    <tr>\n",
       "      <th>max</th>\n",
       "      <td>278848.000000</td>\n",
       "      <td>NaN</td>\n",
       "      <td>NaN</td>\n",
       "      <td>NaN</td>\n",
       "      <td>NaN</td>\n",
       "      <td>NaN</td>\n",
       "      <td>NaN</td>\n",
       "      <td>NaN</td>\n",
       "      <td>NaN</td>\n",
       "      <td>NaN</td>\n",
       "      <td>NaN</td>\n",
       "    </tr>\n",
       "  </tbody>\n",
       "</table>\n",
       "</div>"
      ],
      "text/plain": [
       "               Ind_ID   Test_date Cough_symptoms   Fever Sore_throat  \\\n",
       "count   278848.000000      278848         278848  278848      278848   \n",
       "unique            NaN          51              5       5           5   \n",
       "top               NaN  20-04-2020          False   False       False   \n",
       "freq              NaN       10921         127531  137774      212584   \n",
       "mean    139424.500000         NaN            NaN     NaN         NaN   \n",
       "std      80496.628269         NaN            NaN     NaN         NaN   \n",
       "min          1.000000         NaN            NaN     NaN         NaN   \n",
       "25%      69712.750000         NaN            NaN     NaN         NaN   \n",
       "50%     139424.500000         NaN            NaN     NaN         NaN   \n",
       "75%     209136.250000         NaN            NaN     NaN         NaN   \n",
       "max     278848.000000         NaN            NaN     NaN         NaN   \n",
       "\n",
       "       Shortness_of_breath Headache    Corona Age_60_above     Sex  \\\n",
       "count               278848   278848    278848       278848  278848   \n",
       "unique                   5        5         3            3       3   \n",
       "top                  False    False  negative         None  female   \n",
       "freq                212842   212326    260227       127320  130158   \n",
       "mean                   NaN      NaN       NaN          NaN     NaN   \n",
       "std                    NaN      NaN       NaN          NaN     NaN   \n",
       "min                    NaN      NaN       NaN          NaN     NaN   \n",
       "25%                    NaN      NaN       NaN          NaN     NaN   \n",
       "50%                    NaN      NaN       NaN          NaN     NaN   \n",
       "75%                    NaN      NaN       NaN          NaN     NaN   \n",
       "max                    NaN      NaN       NaN          NaN     NaN   \n",
       "\n",
       "       Known_contact  \n",
       "count         278848  \n",
       "unique             3  \n",
       "top            Other  \n",
       "freq          242741  \n",
       "mean             NaN  \n",
       "std              NaN  \n",
       "min              NaN  \n",
       "25%              NaN  \n",
       "50%              NaN  \n",
       "75%              NaN  \n",
       "max              NaN  "
      ]
     },
     "execution_count": 8,
     "metadata": {},
     "output_type": "execute_result"
    }
   ],
   "source": [
    "df.describe(include='all')"
   ]
  },
  {
   "cell_type": "markdown",
   "id": "788ea689",
   "metadata": {},
   "source": [
    "# DATA CLEANING"
   ]
  },
  {
   "cell_type": "markdown",
   "id": "2fed396b",
   "metadata": {},
   "source": [
    "**CHECKING FOR NULL VALUES**"
   ]
  },
  {
   "cell_type": "code",
   "execution_count": 9,
   "id": "a6f798c6",
   "metadata": {
    "scrolled": true
   },
   "outputs": [
    {
     "data": {
      "text/plain": [
       "Ind_ID                 0\n",
       "Test_date              0\n",
       "Cough_symptoms         0\n",
       "Fever                  0\n",
       "Sore_throat            0\n",
       "Shortness_of_breath    0\n",
       "Headache               0\n",
       "Corona                 0\n",
       "Age_60_above           0\n",
       "Sex                    0\n",
       "Known_contact          0\n",
       "dtype: int64"
      ]
     },
     "execution_count": 9,
     "metadata": {},
     "output_type": "execute_result"
    }
   ],
   "source": [
    "df.isna().sum()"
   ]
  },
  {
   "cell_type": "markdown",
   "id": "42f8fecc",
   "metadata": {},
   "source": [
    "**CHECKING FOR DUPLICATE VALUES**"
   ]
  },
  {
   "cell_type": "code",
   "execution_count": 10,
   "id": "c3e80748",
   "metadata": {},
   "outputs": [
    {
     "data": {
      "text/plain": [
       "0"
      ]
     },
     "execution_count": 10,
     "metadata": {},
     "output_type": "execute_result"
    }
   ],
   "source": [
    "df.duplicated().sum()"
   ]
  },
  {
   "cell_type": "markdown",
   "id": "79558f5b",
   "metadata": {},
   "source": [
    "**We will be droping the 'Ind_Id' column as it has no significance with the data.**"
   ]
  },
  {
   "cell_type": "code",
   "execution_count": 11,
   "id": "5ccdd839",
   "metadata": {},
   "outputs": [],
   "source": [
    "df.drop(['Ind_ID'],axis = 1,inplace=True)"
   ]
  },
  {
   "cell_type": "markdown",
   "id": "ec787a68",
   "metadata": {},
   "source": [
    "**Changing the data-type of 'Test_date' from Object to Datetime and can use it for EDA.**"
   ]
  },
  {
   "cell_type": "code",
   "execution_count": 12,
   "id": "8455393d",
   "metadata": {},
   "outputs": [],
   "source": [
    "df['Test_date'] = pd.to_datetime(df['Test_date'])"
   ]
  },
  {
   "cell_type": "markdown",
   "id": "a2b05576",
   "metadata": {},
   "source": [
    "**TREATMENT OF 'Cough_symptoms' COLUMN**"
   ]
  },
  {
   "cell_type": "code",
   "execution_count": 13,
   "id": "54882aba",
   "metadata": {
    "scrolled": false
   },
   "outputs": [
    {
     "data": {
      "text/plain": [
       "False    127531\n",
       "FALSE    108837\n",
       "TRUE      21983\n",
       "True      20245\n",
       "None        252\n",
       "Name: Cough_symptoms, dtype: int64"
      ]
     },
     "execution_count": 13,
     "metadata": {},
     "output_type": "execute_result"
    }
   ],
   "source": [
    "df['Cough_symptoms'].value_counts()"
   ]
  },
  {
   "cell_type": "code",
   "execution_count": 14,
   "id": "fc2638c3",
   "metadata": {},
   "outputs": [],
   "source": [
    "df['Cough_symptoms'] = df['Cough_symptoms'].replace({'TRUE':True,'FALSE':False, 'None': np.nan})"
   ]
  },
  {
   "cell_type": "code",
   "execution_count": 15,
   "id": "826bb36a",
   "metadata": {
    "scrolled": true
   },
   "outputs": [
    {
     "data": {
      "text/plain": [
       "False    236368\n",
       "True      42228\n",
       "Name: Cough_symptoms, dtype: int64"
      ]
     },
     "execution_count": 15,
     "metadata": {},
     "output_type": "execute_result"
    }
   ],
   "source": [
    "df['Cough_symptoms'].value_counts()"
   ]
  },
  {
   "cell_type": "markdown",
   "id": "82fcb585",
   "metadata": {},
   "source": [
    "**TREATMENT OF 'Fever' COLUMN**"
   ]
  },
  {
   "cell_type": "code",
   "execution_count": 16,
   "id": "03146c69",
   "metadata": {},
   "outputs": [
    {
     "data": {
      "text/plain": [
       "False    137774\n",
       "FALSE    119070\n",
       "TRUE      11750\n",
       "True      10002\n",
       "None        252\n",
       "Name: Fever, dtype: int64"
      ]
     },
     "execution_count": 16,
     "metadata": {},
     "output_type": "execute_result"
    }
   ],
   "source": [
    "df['Fever'].value_counts()"
   ]
  },
  {
   "cell_type": "code",
   "execution_count": 17,
   "id": "a8314854",
   "metadata": {},
   "outputs": [],
   "source": [
    "df['Fever'] = df['Fever'].replace({'TRUE':True,'FALSE':False, 'None': np.nan})"
   ]
  },
  {
   "cell_type": "code",
   "execution_count": 18,
   "id": "7b5653b5",
   "metadata": {
    "scrolled": true
   },
   "outputs": [
    {
     "data": {
      "text/plain": [
       "False    256844\n",
       "True      21752\n",
       "Name: Fever, dtype: int64"
      ]
     },
     "execution_count": 18,
     "metadata": {},
     "output_type": "execute_result"
    }
   ],
   "source": [
    "df['Fever'].value_counts()"
   ]
  },
  {
   "cell_type": "markdown",
   "id": "e46f9497",
   "metadata": {},
   "source": [
    "**TREATMENT OF 'Sore_throat' COLUMN**"
   ]
  },
  {
   "cell_type": "code",
   "execution_count": 19,
   "id": "1c2306eb",
   "metadata": {},
   "outputs": [
    {
     "data": {
      "text/plain": [
       "False    212584\n",
       "FALSE     64337\n",
       "TRUE       1198\n",
       "True        728\n",
       "None          1\n",
       "Name: Sore_throat, dtype: int64"
      ]
     },
     "execution_count": 19,
     "metadata": {},
     "output_type": "execute_result"
    }
   ],
   "source": [
    "df['Sore_throat'].value_counts()"
   ]
  },
  {
   "cell_type": "code",
   "execution_count": 20,
   "id": "248fa6f6",
   "metadata": {},
   "outputs": [],
   "source": [
    "df['Sore_throat'] = df['Sore_throat'].replace({'TRUE':True,'FALSE':False, 'None': np.nan})"
   ]
  },
  {
   "cell_type": "code",
   "execution_count": 21,
   "id": "b95f69ad",
   "metadata": {},
   "outputs": [
    {
     "data": {
      "text/plain": [
       "False    276921\n",
       "True       1926\n",
       "Name: Sore_throat, dtype: int64"
      ]
     },
     "execution_count": 21,
     "metadata": {},
     "output_type": "execute_result"
    }
   ],
   "source": [
    "df['Sore_throat'].value_counts()"
   ]
  },
  {
   "cell_type": "markdown",
   "id": "b81c07b3",
   "metadata": {},
   "source": [
    "**TREATMENT OF 'Shortness_of_breath' COLUMN**"
   ]
  },
  {
   "cell_type": "code",
   "execution_count": 22,
   "id": "2402d81a",
   "metadata": {},
   "outputs": [
    {
     "data": {
      "text/plain": [
       "False    212842\n",
       "FALSE     64428\n",
       "TRUE       1107\n",
       "True        470\n",
       "None          1\n",
       "Name: Shortness_of_breath, dtype: int64"
      ]
     },
     "execution_count": 22,
     "metadata": {},
     "output_type": "execute_result"
    }
   ],
   "source": [
    "df['Shortness_of_breath'].value_counts()"
   ]
  },
  {
   "cell_type": "code",
   "execution_count": 23,
   "id": "23086c77",
   "metadata": {},
   "outputs": [],
   "source": [
    "df['Shortness_of_breath'] = df['Shortness_of_breath'].replace({'TRUE':True,'FALSE':False, 'None': np.nan})"
   ]
  },
  {
   "cell_type": "code",
   "execution_count": 24,
   "id": "a4c15b29",
   "metadata": {},
   "outputs": [
    {
     "data": {
      "text/plain": [
       "False    277270\n",
       "True       1577\n",
       "Name: Shortness_of_breath, dtype: int64"
      ]
     },
     "execution_count": 24,
     "metadata": {},
     "output_type": "execute_result"
    }
   ],
   "source": [
    "df['Shortness_of_breath'].value_counts()"
   ]
  },
  {
   "cell_type": "markdown",
   "id": "f884aa89",
   "metadata": {},
   "source": [
    "**TREATMENT OF 'Headache' COLUMN**"
   ]
  },
  {
   "cell_type": "code",
   "execution_count": 25,
   "id": "b7157fe4",
   "metadata": {},
   "outputs": [
    {
     "data": {
      "text/plain": [
       "False    212326\n",
       "FALSE     64107\n",
       "TRUE       1428\n",
       "True        986\n",
       "None          1\n",
       "Name: Headache, dtype: int64"
      ]
     },
     "execution_count": 25,
     "metadata": {},
     "output_type": "execute_result"
    }
   ],
   "source": [
    "df['Headache'].value_counts()"
   ]
  },
  {
   "cell_type": "code",
   "execution_count": 26,
   "id": "de6901b7",
   "metadata": {},
   "outputs": [],
   "source": [
    "df['Headache'] = df['Headache'].replace({'TRUE':True,'FALSE':False, 'None': np.nan})"
   ]
  },
  {
   "cell_type": "code",
   "execution_count": 27,
   "id": "ab0dbcd9",
   "metadata": {},
   "outputs": [
    {
     "data": {
      "text/plain": [
       "False    276433\n",
       "True       2414\n",
       "Name: Headache, dtype: int64"
      ]
     },
     "execution_count": 27,
     "metadata": {},
     "output_type": "execute_result"
    }
   ],
   "source": [
    "df['Headache'].value_counts()"
   ]
  },
  {
   "cell_type": "markdown",
   "id": "9e4fb904",
   "metadata": {},
   "source": [
    "**TREATMENT OF 'Corona' COLUMN**"
   ]
  },
  {
   "cell_type": "code",
   "execution_count": 28,
   "id": "0ad0c477",
   "metadata": {},
   "outputs": [
    {
     "data": {
      "text/plain": [
       "negative    260227\n",
       "positive     14729\n",
       "other         3892\n",
       "Name: Corona, dtype: int64"
      ]
     },
     "execution_count": 28,
     "metadata": {},
     "output_type": "execute_result"
    }
   ],
   "source": [
    "df['Corona'].value_counts()"
   ]
  },
  {
   "cell_type": "code",
   "execution_count": 29,
   "id": "e8229dd6",
   "metadata": {},
   "outputs": [],
   "source": [
    "df['Corona'] = df['Corona'].replace({'other': np.nan})"
   ]
  },
  {
   "cell_type": "code",
   "execution_count": 30,
   "id": "da158f4a",
   "metadata": {},
   "outputs": [
    {
     "data": {
      "text/plain": [
       "negative    260227\n",
       "positive     14729\n",
       "Name: Corona, dtype: int64"
      ]
     },
     "execution_count": 30,
     "metadata": {},
     "output_type": "execute_result"
    }
   ],
   "source": [
    "df['Corona'].value_counts()"
   ]
  },
  {
   "cell_type": "markdown",
   "id": "9f788201",
   "metadata": {},
   "source": [
    "**TREATMENT OF 'Age_60_above' COLUMN**"
   ]
  },
  {
   "cell_type": "code",
   "execution_count": 31,
   "id": "9b20a44d",
   "metadata": {
    "scrolled": true
   },
   "outputs": [
    {
     "data": {
      "text/plain": [
       "None    127320\n",
       "No      125703\n",
       "Yes      25825\n",
       "Name: Age_60_above, dtype: int64"
      ]
     },
     "execution_count": 31,
     "metadata": {},
     "output_type": "execute_result"
    }
   ],
   "source": [
    "df['Age_60_above'].value_counts()"
   ]
  },
  {
   "cell_type": "code",
   "execution_count": 32,
   "id": "90c72346",
   "metadata": {},
   "outputs": [],
   "source": [
    "df['Age_60_above'] = df['Age_60_above'].replace({'None': np.nan})"
   ]
  },
  {
   "cell_type": "code",
   "execution_count": 33,
   "id": "f93dfa95",
   "metadata": {},
   "outputs": [
    {
     "data": {
      "text/plain": [
       "No     125703\n",
       "Yes     25825\n",
       "Name: Age_60_above, dtype: int64"
      ]
     },
     "execution_count": 33,
     "metadata": {},
     "output_type": "execute_result"
    }
   ],
   "source": [
    "df['Age_60_above'].value_counts()"
   ]
  },
  {
   "cell_type": "markdown",
   "id": "03a869ed",
   "metadata": {},
   "source": [
    "**TREATMENT OF 'Sex' COLUMN**"
   ]
  },
  {
   "cell_type": "code",
   "execution_count": 34,
   "id": "b3fbc61f",
   "metadata": {},
   "outputs": [
    {
     "data": {
      "text/plain": [
       "female    130158\n",
       "male      129127\n",
       "None       19563\n",
       "Name: Sex, dtype: int64"
      ]
     },
     "execution_count": 34,
     "metadata": {},
     "output_type": "execute_result"
    }
   ],
   "source": [
    "df['Sex'].value_counts()"
   ]
  },
  {
   "cell_type": "code",
   "execution_count": 35,
   "id": "443bc4d3",
   "metadata": {},
   "outputs": [],
   "source": [
    "df['Sex'] = df['Sex'].replace({'None': np.nan})"
   ]
  },
  {
   "cell_type": "code",
   "execution_count": 36,
   "id": "380d87bb",
   "metadata": {},
   "outputs": [
    {
     "data": {
      "text/plain": [
       "female    130158\n",
       "male      129127\n",
       "Name: Sex, dtype: int64"
      ]
     },
     "execution_count": 36,
     "metadata": {},
     "output_type": "execute_result"
    }
   ],
   "source": [
    "df['Sex'].value_counts()"
   ]
  },
  {
   "cell_type": "markdown",
   "id": "d0ea9c25",
   "metadata": {},
   "source": [
    "**TREATMENT OF 'Known_contact' COLUMN**"
   ]
  },
  {
   "cell_type": "code",
   "execution_count": 37,
   "id": "93539c4d",
   "metadata": {},
   "outputs": [
    {
     "data": {
      "text/plain": [
       "Other                     242741\n",
       "Abroad                     25468\n",
       "Contact with confirmed     10639\n",
       "Name: Known_contact, dtype: int64"
      ]
     },
     "execution_count": 37,
     "metadata": {},
     "output_type": "execute_result"
    }
   ],
   "source": [
    "df['Known_contact'].value_counts()"
   ]
  },
  {
   "cell_type": "code",
   "execution_count": 38,
   "id": "afde1888",
   "metadata": {},
   "outputs": [],
   "source": [
    "df['Known_contact'] = df['Known_contact'].replace({'Other': 'With_No_One' })"
   ]
  },
  {
   "cell_type": "code",
   "execution_count": 39,
   "id": "6a09d972",
   "metadata": {},
   "outputs": [
    {
     "data": {
      "text/plain": [
       "With_No_One               242741\n",
       "Abroad                     25468\n",
       "Contact with confirmed     10639\n",
       "Name: Known_contact, dtype: int64"
      ]
     },
     "execution_count": 39,
     "metadata": {},
     "output_type": "execute_result"
    }
   ],
   "source": [
    "df['Known_contact'].value_counts()"
   ]
  },
  {
   "cell_type": "markdown",
   "id": "02c78329",
   "metadata": {},
   "source": [
    "**As now we have Treated many columns & converted missing values to np.nan, now we can see the null values.**"
   ]
  },
  {
   "cell_type": "code",
   "execution_count": 40,
   "id": "b01f1d95",
   "metadata": {},
   "outputs": [
    {
     "data": {
      "text/plain": [
       "Test_date                   0\n",
       "Cough_symptoms            252\n",
       "Fever                     252\n",
       "Sore_throat                 1\n",
       "Shortness_of_breath         1\n",
       "Headache                    1\n",
       "Corona                   3892\n",
       "Age_60_above           127320\n",
       "Sex                     19563\n",
       "Known_contact               0\n",
       "dtype: int64"
      ]
     },
     "execution_count": 40,
     "metadata": {},
     "output_type": "execute_result"
    }
   ],
   "source": [
    "df.isna().sum()"
   ]
  },
  {
   "cell_type": "markdown",
   "id": "0939aadd",
   "metadata": {},
   "source": [
    "**Dropping all the null values**"
   ]
  },
  {
   "cell_type": "code",
   "execution_count": 41,
   "id": "c89a03b8",
   "metadata": {},
   "outputs": [],
   "source": [
    "df.dropna(inplace= True)"
   ]
  },
  {
   "cell_type": "code",
   "execution_count": 42,
   "id": "23db61f5",
   "metadata": {},
   "outputs": [
    {
     "data": {
      "text/plain": [
       "(136294, 10)"
      ]
     },
     "execution_count": 42,
     "metadata": {},
     "output_type": "execute_result"
    }
   ],
   "source": [
    "df.shape"
   ]
  },
  {
   "cell_type": "code",
   "execution_count": 43,
   "id": "0f0ab466",
   "metadata": {
    "scrolled": true
   },
   "outputs": [
    {
     "data": {
      "text/plain": [
       "Test_date              0\n",
       "Cough_symptoms         0\n",
       "Fever                  0\n",
       "Sore_throat            0\n",
       "Shortness_of_breath    0\n",
       "Headache               0\n",
       "Corona                 0\n",
       "Age_60_above           0\n",
       "Sex                    0\n",
       "Known_contact          0\n",
       "dtype: int64"
      ]
     },
     "execution_count": 43,
     "metadata": {},
     "output_type": "execute_result"
    }
   ],
   "source": [
    "df.isna().sum()"
   ]
  },
  {
   "cell_type": "code",
   "execution_count": 44,
   "id": "dbe3ab99",
   "metadata": {},
   "outputs": [
    {
     "data": {
      "text/html": [
       "<div>\n",
       "<style scoped>\n",
       "    .dataframe tbody tr th:only-of-type {\n",
       "        vertical-align: middle;\n",
       "    }\n",
       "\n",
       "    .dataframe tbody tr th {\n",
       "        vertical-align: top;\n",
       "    }\n",
       "\n",
       "    .dataframe thead th {\n",
       "        text-align: right;\n",
       "    }\n",
       "</style>\n",
       "<table border=\"1\" class=\"dataframe\">\n",
       "  <thead>\n",
       "    <tr style=\"text-align: right;\">\n",
       "      <th></th>\n",
       "      <th>Test_date</th>\n",
       "      <th>Cough_symptoms</th>\n",
       "      <th>Fever</th>\n",
       "      <th>Sore_throat</th>\n",
       "      <th>Shortness_of_breath</th>\n",
       "      <th>Headache</th>\n",
       "      <th>Corona</th>\n",
       "      <th>Age_60_above</th>\n",
       "      <th>Sex</th>\n",
       "      <th>Known_contact</th>\n",
       "    </tr>\n",
       "  </thead>\n",
       "  <tbody>\n",
       "    <tr>\n",
       "      <th>13727</th>\n",
       "      <td>2020-03-22</td>\n",
       "      <td>True</td>\n",
       "      <td>False</td>\n",
       "      <td>False</td>\n",
       "      <td>False</td>\n",
       "      <td>False</td>\n",
       "      <td>negative</td>\n",
       "      <td>No</td>\n",
       "      <td>male</td>\n",
       "      <td>Abroad</td>\n",
       "    </tr>\n",
       "    <tr>\n",
       "      <th>13728</th>\n",
       "      <td>2020-03-22</td>\n",
       "      <td>True</td>\n",
       "      <td>False</td>\n",
       "      <td>False</td>\n",
       "      <td>False</td>\n",
       "      <td>False</td>\n",
       "      <td>negative</td>\n",
       "      <td>No</td>\n",
       "      <td>female</td>\n",
       "      <td>Abroad</td>\n",
       "    </tr>\n",
       "    <tr>\n",
       "      <th>13730</th>\n",
       "      <td>2020-03-22</td>\n",
       "      <td>True</td>\n",
       "      <td>True</td>\n",
       "      <td>False</td>\n",
       "      <td>False</td>\n",
       "      <td>False</td>\n",
       "      <td>positive</td>\n",
       "      <td>Yes</td>\n",
       "      <td>female</td>\n",
       "      <td>With_No_One</td>\n",
       "    </tr>\n",
       "    <tr>\n",
       "      <th>13734</th>\n",
       "      <td>2020-03-22</td>\n",
       "      <td>False</td>\n",
       "      <td>False</td>\n",
       "      <td>False</td>\n",
       "      <td>False</td>\n",
       "      <td>False</td>\n",
       "      <td>negative</td>\n",
       "      <td>No</td>\n",
       "      <td>male</td>\n",
       "      <td>With_No_One</td>\n",
       "    </tr>\n",
       "    <tr>\n",
       "      <th>13735</th>\n",
       "      <td>2020-03-22</td>\n",
       "      <td>False</td>\n",
       "      <td>False</td>\n",
       "      <td>False</td>\n",
       "      <td>False</td>\n",
       "      <td>False</td>\n",
       "      <td>negative</td>\n",
       "      <td>No</td>\n",
       "      <td>female</td>\n",
       "      <td>With_No_One</td>\n",
       "    </tr>\n",
       "  </tbody>\n",
       "</table>\n",
       "</div>"
      ],
      "text/plain": [
       "       Test_date Cough_symptoms  Fever Sore_throat Shortness_of_breath  \\\n",
       "13727 2020-03-22           True  False       False               False   \n",
       "13728 2020-03-22           True  False       False               False   \n",
       "13730 2020-03-22           True   True       False               False   \n",
       "13734 2020-03-22          False  False       False               False   \n",
       "13735 2020-03-22          False  False       False               False   \n",
       "\n",
       "      Headache    Corona Age_60_above     Sex Known_contact  \n",
       "13727    False  negative           No    male        Abroad  \n",
       "13728    False  negative           No  female        Abroad  \n",
       "13730    False  positive          Yes  female   With_No_One  \n",
       "13734    False  negative           No    male   With_No_One  \n",
       "13735    False  negative           No  female   With_No_One  "
      ]
     },
     "execution_count": 44,
     "metadata": {},
     "output_type": "execute_result"
    }
   ],
   "source": [
    "df.head()"
   ]
  },
  {
   "cell_type": "markdown",
   "id": "7723d31e",
   "metadata": {},
   "source": [
    "**Here I exported the dataframe to excel for SQL analysis.**"
   ]
  },
  {
   "cell_type": "code",
   "execution_count": 45,
   "id": "65d157d7",
   "metadata": {},
   "outputs": [],
   "source": [
    "df.to_excel('cleaned_covid_data.xlsx', index=False)"
   ]
  },
  {
   "cell_type": "code",
   "execution_count": 46,
   "id": "14741c79",
   "metadata": {
    "scrolled": true
   },
   "outputs": [
    {
     "data": {
      "text/plain": [
       "(136294, 10)"
      ]
     },
     "execution_count": 46,
     "metadata": {},
     "output_type": "execute_result"
    }
   ],
   "source": [
    "df.shape"
   ]
  },
  {
   "cell_type": "markdown",
   "id": "f8c48d77",
   "metadata": {},
   "source": [
    "# **Exploratory Data Analysis**"
   ]
  },
  {
   "cell_type": "markdown",
   "id": "7a3e3fa0",
   "metadata": {},
   "source": [
    "**Let's now spend some time doing what is arguably the most important step - understanding the data.**\n",
    "\n",
    "**If there is some obvious multicollinearity going on, this is the first place to catch it.**\n",
    "\n",
    "**Here's where you'll also identify if some predictors directly have a strong association with the outcome variable.**"
   ]
  },
  {
   "cell_type": "markdown",
   "id": "74fe8c62",
   "metadata": {},
   "source": [
    "**Visualisation and Outlier Detection**"
   ]
  },
  {
   "cell_type": "code",
   "execution_count": 47,
   "id": "f757155a",
   "metadata": {},
   "outputs": [
    {
     "data": {
      "image/png": "[encoded data removed]",
      "text/plain": [
       "<Figure size 720x360 with 1 Axes>"
      ]
     },
     "metadata": {},
     "output_type": "display_data"
    }
   ],
   "source": [
    "# extract the month from each date and add it as a new column\n",
    "df['Month'] = df['Test_date'].dt.month\n",
    "\n",
    "# filter the data to only include rows where Corona is positive\n",
    "df_positive = df[df['Corona'] == 'positive']\n",
    "\n",
    "# create a bar plot for each month\n",
    "sns.countplot(data=df_positive, x='Month', hue='Corona')\n",
    "plt.show()\n",
    "\n",
    "# Here we can see that most of the corona positive cases were from 'MARCH'"
   ]
  },
  {
   "cell_type": "code",
   "execution_count": 48,
   "id": "a8f9a16d",
   "metadata": {},
   "outputs": [
    {
     "data": {
      "image/png": "[encoded data removed]",
      "text/plain": [
       "<Figure size 720x360 with 1 Axes>"
      ]
     },
     "metadata": {},
     "output_type": "display_data"
    }
   ],
   "source": [
    "sns.countplot(x='Cough_symptoms',data=df)\n",
    "plt.show()\n",
    "\n",
    "# Most of the records does not have Cough_Symptoms"
   ]
  },
  {
   "cell_type": "code",
   "execution_count": 49,
   "id": "8a613c37",
   "metadata": {},
   "outputs": [
    {
     "data": {
      "image/png": "[encoded data removed]",
      "text/plain": [
       "<Figure size 720x360 with 1 Axes>"
      ]
     },
     "metadata": {},
     "output_type": "display_data"
    }
   ],
   "source": [
    "sns.countplot(x='Fever',data=df)\n",
    "plt.show()\n",
    "\n",
    "# Most of the records does not have Fever"
   ]
  },
  {
   "cell_type": "code",
   "execution_count": 50,
   "id": "767a8a2a",
   "metadata": {},
   "outputs": [
    {
     "data": {
      "image/png": "[encoded data removed]",
      "text/plain": [
       "<Figure size 720x360 with 1 Axes>"
      ]
     },
     "metadata": {},
     "output_type": "display_data"
    }
   ],
   "source": [
    "sns.countplot(x='Sore_throat',data=df)\n",
    "plt.show()\n",
    "\n",
    "# Most of the records does not have Sore_Throat"
   ]
  },
  {
   "cell_type": "code",
   "execution_count": 51,
   "id": "587bc7a4",
   "metadata": {},
   "outputs": [
    {
     "data": {
      "image/png": "[encoded data removed]",
      "text/plain": [
       "<Figure size 720x360 with 1 Axes>"
      ]
     },
     "metadata": {},
     "output_type": "display_data"
    }
   ],
   "source": [
    "sns.countplot(x='Shortness_of_breath',data=df)\n",
    "plt.show()\n",
    "\n",
    "# Most of the records does not have Shortness_of_breath"
   ]
  },
  {
   "cell_type": "code",
   "execution_count": 52,
   "id": "6d414876",
   "metadata": {
    "scrolled": false
   },
   "outputs": [
    {
     "data": {
      "image/png": "[encoded data removed]",
      "text/plain": [
       "<Figure size 720x360 with 1 Axes>"
      ]
     },
     "metadata": {},
     "output_type": "display_data"
    }
   ],
   "source": [
    "sns.countplot(x='Headache',data=df)\n",
    "plt.show()\n",
    "\n",
    "# Most of the records does not have Headache"
   ]
  },
  {
   "cell_type": "code",
   "execution_count": 53,
   "id": "4782148c",
   "metadata": {},
   "outputs": [
    {
     "data": {
      "image/png": "[encoded data removed]",
      "text/plain": [
       "<Figure size 720x360 with 1 Axes>"
      ]
     },
     "metadata": {},
     "output_type": "display_data"
    }
   ],
   "source": [
    "# Bar Chart for Test Results\n",
    "test_results = df['Corona'].value_counts()\n",
    "plt.bar(test_results.index, test_results.values)\n",
    "plt.title('COVID-19 Test Results')\n",
    "plt.xlabel('Test Results')\n",
    "plt.ylabel('Count')\n",
    "plt.show()\n",
    "# Most of the records does not have Corona Positive"
   ]
  },
  {
   "cell_type": "code",
   "execution_count": 54,
   "id": "2d31d1c0",
   "metadata": {},
   "outputs": [
    {
     "data": {
      "image/png": "[encoded data removed]",
      "text/plain": [
       "<Figure size 720x360 with 1 Axes>"
      ]
     },
     "metadata": {},
     "output_type": "display_data"
    }
   ],
   "source": [
    "sns.countplot(x='Age_60_above',data=df)\n",
    "plt.show()\n",
    "\n",
    "# Most of the records does not have Age_60_above"
   ]
  },
  {
   "cell_type": "code",
   "execution_count": 55,
   "id": "59a623ca",
   "metadata": {
    "scrolled": true
   },
   "outputs": [
    {
     "data": {
      "image/png": "[encoded data removed]",
      "text/plain": [
       "<Figure size 720x360 with 1 Axes>"
      ]
     },
     "metadata": {},
     "output_type": "display_data"
    }
   ],
   "source": [
    "sns.countplot(x='Sex',data=df)\n",
    "plt.show()\n",
    "\n",
    "# All the records are almost equally distributed among Male and Female"
   ]
  },
  {
   "cell_type": "code",
   "execution_count": 56,
   "id": "baa642ad",
   "metadata": {},
   "outputs": [
    {
     "data": {
      "image/png": "[encoded data removed]",
      "text/plain": [
       "<Figure size 720x360 with 1 Axes>"
      ]
     },
     "metadata": {},
     "output_type": "display_data"
    }
   ],
   "source": [
    "sns.countplot(x='Known_contact',data=df)\n",
    "plt.show()\n",
    "\n",
    "# Most of the records does not been in contact with anyone, very less in contact with people abroad \n",
    "# and least have been in contact with confirmed case."
   ]
  },
  {
   "cell_type": "code",
   "execution_count": 57,
   "id": "b59197f9",
   "metadata": {},
   "outputs": [
    {
     "data": {
      "image/png": "[encoded data removed]",
      "text/plain": [
       "<Figure size 720x360 with 1 Axes>"
      ]
     },
     "metadata": {},
     "output_type": "display_data"
    }
   ],
   "source": [
    "# Line Chart for Positive Test Results over Time\n",
    "df['Test_date'] = pd.to_datetime(df['Test_date'])\n",
    "positive_tests = df[df['Corona'] == 'positive']\n",
    "positive_tests = positive_tests.groupby('Test_date').size()\n",
    "plt.plot(positive_tests.index, positive_tests.values)\n",
    "plt.title('Positive COVID-19 Tests over Time')\n",
    "plt.xlabel('Test Date')\n",
    "plt.ylabel('Count')\n",
    "plt.show()"
   ]
  },
  {
   "cell_type": "code",
   "execution_count": 58,
   "id": "aa8f7d85",
   "metadata": {},
   "outputs": [
    {
     "data": {
      "image/png": "[encoded data removed]",
      "text/plain": [
       "<Figure size 720x360 with 1 Axes>"
      ]
     },
     "metadata": {},
     "output_type": "display_data"
    }
   ],
   "source": [
    "# Pie Chart for Test Results\n",
    "test_results = df['Corona'].value_counts()\n",
    "plt.pie(test_results.values, labels=test_results.index, autopct='%1.1f%%')\n",
    "plt.title('COVID-19 Test Results')\n",
    "plt.show()"
   ]
  },
  {
   "cell_type": "code",
   "execution_count": 59,
   "id": "e6ce3378",
   "metadata": {},
   "outputs": [
    {
     "data": {
      "text/plain": [
       "(136294, 11)"
      ]
     },
     "execution_count": 59,
     "metadata": {},
     "output_type": "execute_result"
    }
   ],
   "source": [
    "df.shape"
   ]
  },
  {
   "cell_type": "code",
   "execution_count": 60,
   "id": "43aea6ad",
   "metadata": {},
   "outputs": [
    {
     "data": {
      "text/plain": [
       "Test_date              datetime64[ns]\n",
       "Cough_symptoms                 object\n",
       "Fever                          object\n",
       "Sore_throat                    object\n",
       "Shortness_of_breath            object\n",
       "Headache                       object\n",
       "Corona                         object\n",
       "Age_60_above                   object\n",
       "Sex                            object\n",
       "Known_contact                  object\n",
       "Month                           int64\n",
       "dtype: object"
      ]
     },
     "execution_count": 60,
     "metadata": {},
     "output_type": "execute_result"
    }
   ],
   "source": [
    "df.dtypes"
   ]
  },
  {
   "cell_type": "markdown",
   "id": "c6c383ea",
   "metadata": {},
   "source": [
    "**After performing EDA 'Test_date' has no relevance to the data. So it is better to drop it.**"
   ]
  },
  {
   "cell_type": "code",
   "execution_count": 61,
   "id": "61c15833",
   "metadata": {},
   "outputs": [],
   "source": [
    "df.drop(['Test_date'],axis = 1,inplace=True)"
   ]
  },
  {
   "cell_type": "code",
   "execution_count": 62,
   "id": "f9eccdcc",
   "metadata": {
    "scrolled": true
   },
   "outputs": [
    {
     "data": {
      "text/plain": [
       "Cough_symptoms         object\n",
       "Fever                  object\n",
       "Sore_throat            object\n",
       "Shortness_of_breath    object\n",
       "Headache               object\n",
       "Corona                 object\n",
       "Age_60_above           object\n",
       "Sex                    object\n",
       "Known_contact          object\n",
       "Month                   int64\n",
       "dtype: object"
      ]
     },
     "execution_count": 62,
     "metadata": {},
     "output_type": "execute_result"
    }
   ],
   "source": [
    "df.dtypes"
   ]
  },
  {
   "cell_type": "markdown",
   "id": "7acca729",
   "metadata": {},
   "source": [
    "**Encoding categorical variables**"
   ]
  },
  {
   "cell_type": "code",
   "execution_count": 63,
   "id": "6aa1335c",
   "metadata": {},
   "outputs": [],
   "source": [
    "x=df.drop('Corona',axis=1)\n",
    "y=df.Corona\n",
    "x= pd.get_dummies(x,drop_first=True)\n"
   ]
  },
  {
   "cell_type": "code",
   "execution_count": 64,
   "id": "f7c49cd5",
   "metadata": {},
   "outputs": [
    {
     "data": {
      "text/html": [
       "<div>\n",
       "<style scoped>\n",
       "    .dataframe tbody tr th:only-of-type {\n",
       "        vertical-align: middle;\n",
       "    }\n",
       "\n",
       "    .dataframe tbody tr th {\n",
       "        vertical-align: top;\n",
       "    }\n",
       "\n",
       "    .dataframe thead th {\n",
       "        text-align: right;\n",
       "    }\n",
       "</style>\n",
       "<table border=\"1\" class=\"dataframe\">\n",
       "  <thead>\n",
       "    <tr style=\"text-align: right;\">\n",
       "      <th></th>\n",
       "      <th>Month</th>\n",
       "      <th>Cough_symptoms_True</th>\n",
       "      <th>Fever_True</th>\n",
       "      <th>Sore_throat_True</th>\n",
       "      <th>Shortness_of_breath_True</th>\n",
       "      <th>Headache_True</th>\n",
       "      <th>Age_60_above_Yes</th>\n",
       "      <th>Sex_male</th>\n",
       "      <th>Known_contact_Contact with confirmed</th>\n",
       "      <th>Known_contact_With_No_One</th>\n",
       "    </tr>\n",
       "  </thead>\n",
       "  <tbody>\n",
       "    <tr>\n",
       "      <th>13727</th>\n",
       "      <td>3</td>\n",
       "      <td>1</td>\n",
       "      <td>0</td>\n",
       "      <td>0</td>\n",
       "      <td>0</td>\n",
       "      <td>0</td>\n",
       "      <td>0</td>\n",
       "      <td>1</td>\n",
       "      <td>0</td>\n",
       "      <td>0</td>\n",
       "    </tr>\n",
       "    <tr>\n",
       "      <th>13728</th>\n",
       "      <td>3</td>\n",
       "      <td>1</td>\n",
       "      <td>0</td>\n",
       "      <td>0</td>\n",
       "      <td>0</td>\n",
       "      <td>0</td>\n",
       "      <td>0</td>\n",
       "      <td>0</td>\n",
       "      <td>0</td>\n",
       "      <td>0</td>\n",
       "    </tr>\n",
       "    <tr>\n",
       "      <th>13730</th>\n",
       "      <td>3</td>\n",
       "      <td>1</td>\n",
       "      <td>1</td>\n",
       "      <td>0</td>\n",
       "      <td>0</td>\n",
       "      <td>0</td>\n",
       "      <td>1</td>\n",
       "      <td>0</td>\n",
       "      <td>0</td>\n",
       "      <td>1</td>\n",
       "    </tr>\n",
       "    <tr>\n",
       "      <th>13734</th>\n",
       "      <td>3</td>\n",
       "      <td>0</td>\n",
       "      <td>0</td>\n",
       "      <td>0</td>\n",
       "      <td>0</td>\n",
       "      <td>0</td>\n",
       "      <td>0</td>\n",
       "      <td>1</td>\n",
       "      <td>0</td>\n",
       "      <td>1</td>\n",
       "    </tr>\n",
       "    <tr>\n",
       "      <th>13735</th>\n",
       "      <td>3</td>\n",
       "      <td>0</td>\n",
       "      <td>0</td>\n",
       "      <td>0</td>\n",
       "      <td>0</td>\n",
       "      <td>0</td>\n",
       "      <td>0</td>\n",
       "      <td>0</td>\n",
       "      <td>0</td>\n",
       "      <td>1</td>\n",
       "    </tr>\n",
       "    <tr>\n",
       "      <th>...</th>\n",
       "      <td>...</td>\n",
       "      <td>...</td>\n",
       "      <td>...</td>\n",
       "      <td>...</td>\n",
       "      <td>...</td>\n",
       "      <td>...</td>\n",
       "      <td>...</td>\n",
       "      <td>...</td>\n",
       "      <td>...</td>\n",
       "      <td>...</td>\n",
       "    </tr>\n",
       "    <tr>\n",
       "      <th>156035</th>\n",
       "      <td>4</td>\n",
       "      <td>1</td>\n",
       "      <td>0</td>\n",
       "      <td>1</td>\n",
       "      <td>0</td>\n",
       "      <td>0</td>\n",
       "      <td>1</td>\n",
       "      <td>1</td>\n",
       "      <td>0</td>\n",
       "      <td>0</td>\n",
       "    </tr>\n",
       "    <tr>\n",
       "      <th>156036</th>\n",
       "      <td>4</td>\n",
       "      <td>1</td>\n",
       "      <td>0</td>\n",
       "      <td>1</td>\n",
       "      <td>1</td>\n",
       "      <td>0</td>\n",
       "      <td>0</td>\n",
       "      <td>1</td>\n",
       "      <td>0</td>\n",
       "      <td>0</td>\n",
       "    </tr>\n",
       "    <tr>\n",
       "      <th>156037</th>\n",
       "      <td>4</td>\n",
       "      <td>1</td>\n",
       "      <td>1</td>\n",
       "      <td>0</td>\n",
       "      <td>0</td>\n",
       "      <td>0</td>\n",
       "      <td>0</td>\n",
       "      <td>0</td>\n",
       "      <td>0</td>\n",
       "      <td>0</td>\n",
       "    </tr>\n",
       "    <tr>\n",
       "      <th>156038</th>\n",
       "      <td>4</td>\n",
       "      <td>0</td>\n",
       "      <td>0</td>\n",
       "      <td>0</td>\n",
       "      <td>0</td>\n",
       "      <td>0</td>\n",
       "      <td>0</td>\n",
       "      <td>1</td>\n",
       "      <td>0</td>\n",
       "      <td>1</td>\n",
       "    </tr>\n",
       "    <tr>\n",
       "      <th>156039</th>\n",
       "      <td>4</td>\n",
       "      <td>0</td>\n",
       "      <td>0</td>\n",
       "      <td>0</td>\n",
       "      <td>0</td>\n",
       "      <td>0</td>\n",
       "      <td>0</td>\n",
       "      <td>0</td>\n",
       "      <td>0</td>\n",
       "      <td>1</td>\n",
       "    </tr>\n",
       "  </tbody>\n",
       "</table>\n",
       "<p>136294 rows × 10 columns</p>\n",
       "</div>"
      ],
      "text/plain": [
       "        Month  Cough_symptoms_True  Fever_True  Sore_throat_True  \\\n",
       "13727       3                    1           0                 0   \n",
       "13728       3                    1           0                 0   \n",
       "13730       3                    1           1                 0   \n",
       "13734       3                    0           0                 0   \n",
       "13735       3                    0           0                 0   \n",
       "...       ...                  ...         ...               ...   \n",
       "156035      4                    1           0                 1   \n",
       "156036      4                    1           0                 1   \n",
       "156037      4                    1           1                 0   \n",
       "156038      4                    0           0                 0   \n",
       "156039      4                    0           0                 0   \n",
       "\n",
       "        Shortness_of_breath_True  Headache_True  Age_60_above_Yes  Sex_male  \\\n",
       "13727                          0              0                 0         1   \n",
       "13728                          0              0                 0         0   \n",
       "13730                          0              0                 1         0   \n",
       "13734                          0              0                 0         1   \n",
       "13735                          0              0                 0         0   \n",
       "...                          ...            ...               ...       ...   \n",
       "156035                         0              0                 1         1   \n",
       "156036                         1              0                 0         1   \n",
       "156037                         0              0                 0         0   \n",
       "156038                         0              0                 0         1   \n",
       "156039                         0              0                 0         0   \n",
       "\n",
       "        Known_contact_Contact with confirmed  Known_contact_With_No_One  \n",
       "13727                                      0                          0  \n",
       "13728                                      0                          0  \n",
       "13730                                      0                          1  \n",
       "13734                                      0                          1  \n",
       "13735                                      0                          1  \n",
       "...                                      ...                        ...  \n",
       "156035                                     0                          0  \n",
       "156036                                     0                          0  \n",
       "156037                                     0                          0  \n",
       "156038                                     0                          1  \n",
       "156039                                     0                          1  \n",
       "\n",
       "[136294 rows x 10 columns]"
      ]
     },
     "execution_count": 64,
     "metadata": {},
     "output_type": "execute_result"
    }
   ],
   "source": [
    "x"
   ]
  },
  {
   "cell_type": "code",
   "execution_count": 65,
   "id": "cb47d160",
   "metadata": {},
   "outputs": [],
   "source": [
    "y = y.to_frame()"
   ]
  },
  {
   "cell_type": "code",
   "execution_count": 66,
   "id": "3e566f80",
   "metadata": {},
   "outputs": [],
   "source": [
    "y= y.replace({'negative': 0, 'positive': 1 })"
   ]
  },
  {
   "cell_type": "code",
   "execution_count": 67,
   "id": "1b03d9f5",
   "metadata": {},
   "outputs": [
    {
     "data": {
      "text/html": [
       "<div>\n",
       "<style scoped>\n",
       "    .dataframe tbody tr th:only-of-type {\n",
       "        vertical-align: middle;\n",
       "    }\n",
       "\n",
       "    .dataframe tbody tr th {\n",
       "        vertical-align: top;\n",
       "    }\n",
       "\n",
       "    .dataframe thead th {\n",
       "        text-align: right;\n",
       "    }\n",
       "</style>\n",
       "<table border=\"1\" class=\"dataframe\">\n",
       "  <thead>\n",
       "    <tr style=\"text-align: right;\">\n",
       "      <th></th>\n",
       "      <th>Corona</th>\n",
       "    </tr>\n",
       "  </thead>\n",
       "  <tbody>\n",
       "    <tr>\n",
       "      <th>13727</th>\n",
       "      <td>0</td>\n",
       "    </tr>\n",
       "    <tr>\n",
       "      <th>13728</th>\n",
       "      <td>0</td>\n",
       "    </tr>\n",
       "    <tr>\n",
       "      <th>13730</th>\n",
       "      <td>1</td>\n",
       "    </tr>\n",
       "    <tr>\n",
       "      <th>13734</th>\n",
       "      <td>0</td>\n",
       "    </tr>\n",
       "    <tr>\n",
       "      <th>13735</th>\n",
       "      <td>0</td>\n",
       "    </tr>\n",
       "    <tr>\n",
       "      <th>...</th>\n",
       "      <td>...</td>\n",
       "    </tr>\n",
       "    <tr>\n",
       "      <th>156035</th>\n",
       "      <td>0</td>\n",
       "    </tr>\n",
       "    <tr>\n",
       "      <th>156036</th>\n",
       "      <td>0</td>\n",
       "    </tr>\n",
       "    <tr>\n",
       "      <th>156037</th>\n",
       "      <td>0</td>\n",
       "    </tr>\n",
       "    <tr>\n",
       "      <th>156038</th>\n",
       "      <td>0</td>\n",
       "    </tr>\n",
       "    <tr>\n",
       "      <th>156039</th>\n",
       "      <td>0</td>\n",
       "    </tr>\n",
       "  </tbody>\n",
       "</table>\n",
       "<p>136294 rows × 1 columns</p>\n",
       "</div>"
      ],
      "text/plain": [
       "        Corona\n",
       "13727        0\n",
       "13728        0\n",
       "13730        1\n",
       "13734        0\n",
       "13735        0\n",
       "...        ...\n",
       "156035       0\n",
       "156036       0\n",
       "156037       0\n",
       "156038       0\n",
       "156039       0\n",
       "\n",
       "[136294 rows x 1 columns]"
      ]
     },
     "execution_count": 67,
     "metadata": {},
     "output_type": "execute_result"
    }
   ],
   "source": [
    "y"
   ]
  },
  {
   "cell_type": "markdown",
   "id": "4a1b1c05",
   "metadata": {},
   "source": [
    "**Splitting the data into train and test sets**"
   ]
  },
  {
   "cell_type": "code",
   "execution_count": 68,
   "id": "fe9bb422",
   "metadata": {},
   "outputs": [],
   "source": [
    "from sklearn.model_selection import train_test_split\n",
    "X_train, X_test, Y_train, Y_test = train_test_split(x,y,test_size=0.2,random_state=10)"
   ]
  },
  {
   "cell_type": "markdown",
   "id": "fd58d79c",
   "metadata": {},
   "source": [
    "# **Model Training**"
   ]
  },
  {
   "cell_type": "markdown",
   "id": "a77423b3",
   "metadata": {},
   "source": [
    "**Decision Tree Model**"
   ]
  },
  {
   "cell_type": "code",
   "execution_count": 69,
   "id": "e08e1761",
   "metadata": {},
   "outputs": [
    {
     "name": "stdout",
     "output_type": "stream",
     "text": [
      "Accuracy of Decision Tree Classifier: 0.9579221541509226\n",
      "Confusion Matrix of Decision Tree Model:\n",
      " [[24858   266]\n",
      " [  881  1254]]\n"
     ]
    }
   ],
   "source": [
    "from sklearn.tree import DecisionTreeClassifier\n",
    "\n",
    "# create Decision Tree Classifier object and fit the model to training data\n",
    "dtc = DecisionTreeClassifier()\n",
    "dtc.fit(X_train, Y_train)\n",
    "\n",
    "# predict the classes of test data using the trained model\n",
    "y_pred = dtc.predict(X_test)\n",
    "\n",
    "# print the accuracy of the model\n",
    "print(\"Accuracy of Decision Tree Classifier:\", dtc.score(X_test, Y_test))\n",
    "\n",
    "# Confusion Matrix\n",
    "cm_dt = confusion_matrix(Y_test, y_pred)\n",
    "print('Confusion Matrix of Decision Tree Model:\\n', cm_dt)"
   ]
  },
  {
   "cell_type": "markdown",
   "id": "65304f94",
   "metadata": {},
   "source": [
    "**Logistic Regression Model**"
   ]
  },
  {
   "cell_type": "code",
   "execution_count": 70,
   "id": "965a97cd",
   "metadata": {},
   "outputs": [
    {
     "name": "stdout",
     "output_type": "stream",
     "text": [
      "Accuracy of Logistic Regression Model: 0.9524193844234932\n",
      "Confusion Matrix of Logistic Regression Model:\n",
      " [[24855   269]\n",
      " [ 1028  1107]]\n"
     ]
    }
   ],
   "source": [
    "from sklearn.linear_model import LogisticRegression\n",
    "\n",
    "# Fitting the logistic regression model\n",
    "lr = LogisticRegression(random_state=42)\n",
    "lr.fit(X_train, Y_train)\n",
    "\n",
    "# Predicting on test set and calculating accuracy\n",
    "y_pred_lr = lr.predict(X_test)\n",
    "accuracy_lr = accuracy_score(Y_test, y_pred_lr)\n",
    "print('Accuracy of Logistic Regression Model:', accuracy_lr)\n",
    "\n",
    "# Confusion Matrix\n",
    "cm_lr = confusion_matrix(Y_test, y_pred_lr)\n",
    "print('Confusion Matrix of Logistic Regression Model:\\n', cm_lr)"
   ]
  },
  {
   "cell_type": "markdown",
   "id": "fe321e02",
   "metadata": {},
   "source": [
    "**Random Forest Model**"
   ]
  },
  {
   "cell_type": "code",
   "execution_count": 71,
   "id": "d44acbfe",
   "metadata": {},
   "outputs": [
    {
     "name": "stdout",
     "output_type": "stream",
     "text": [
      "Accuracy of Random Forest Classifier: 0.9587659121757951\n",
      "Confusion Matrix of Random Forest Model:\n",
      " [[24856   268]\n",
      " [  856  1279]]\n"
     ]
    }
   ],
   "source": [
    "from sklearn.ensemble import RandomForestClassifier\n",
    "\n",
    "# create Random Forest Classifier object and fit the model to training data\n",
    "rfc = RandomForestClassifier(n_estimators=100)\n",
    "rfc.fit(X_train, Y_train)\n",
    "\n",
    "# predict the classes of test data using the trained model\n",
    "y_pred = rfc.predict(X_test)\n",
    "\n",
    "# print the accuracy of the model\n",
    "print(\"Accuracy of Random Forest Classifier:\", rfc.score(X_test, Y_test))\n",
    "\n",
    "# Confusion Matrix\n",
    "cm_rf = confusion_matrix(Y_test, y_pred)\n",
    "print('Confusion Matrix of Random Forest Model:\\n', cm_rf)"
   ]
  },
  {
   "cell_type": "markdown",
   "id": "76680c68",
   "metadata": {},
   "source": [
    "**XGBoost Model**"
   ]
  },
  {
   "cell_type": "code",
   "execution_count": 72,
   "id": "511c25ad",
   "metadata": {},
   "outputs": [
    {
     "name": "stdout",
     "output_type": "stream",
     "text": [
      "Accuracy of XGBoost Model: 0.9592061337539896\n",
      "Confusion Matrix of XGBoost Model:\n",
      " [[24847   277]\n",
      " [  835  1300]]\n"
     ]
    }
   ],
   "source": [
    "from xgboost import XGBClassifier\n",
    "\n",
    "# Fitting the XGBoost model\n",
    "xgb = XGBClassifier(random_state=42)\n",
    "xgb.fit(X_train, Y_train)\n",
    "\n",
    "# Predicting on test set and calculating accuracy\n",
    "y_pred_xgb = xgb.predict(X_test)\n",
    "accuracy_xgb = accuracy_score(Y_test, y_pred_xgb)\n",
    "print('Accuracy of XGBoost Model:', accuracy_xgb)\n",
    "\n",
    "# Confusion Matrix\n",
    "cm_xgb = confusion_matrix(Y_test, y_pred_xgb)\n",
    "print('Confusion Matrix of XGBoost Model:\\n', cm_xgb)"
   ]
  },
  {
   "cell_type": "markdown",
   "id": "ba579155",
   "metadata": {},
   "source": [
    "**Support Vector Machine**"
   ]
  },
  {
   "cell_type": "code",
   "execution_count": 73,
   "id": "47cbc448",
   "metadata": {},
   "outputs": [
    {
     "name": "stdout",
     "output_type": "stream",
     "text": [
      "Accuracy of SVM Classifier: 0.9552074544187241\n"
     ]
    }
   ],
   "source": [
    "from sklearn.svm import SVC\n",
    "\n",
    "# create SVM object and fit the model to training data\n",
    "svm_model = SVC(kernel='linear')\n",
    "svm_model.fit(X_train, Y_train)\n",
    "\n",
    "# predict the classes of test data using the trained model\n",
    "y_pred = svm_model.predict(X_test)\n",
    "\n",
    "# print the accuracy of the model\n",
    "print(\"Accuracy of SVM Classifier:\", svm_model.score(X_test, Y_test))\n"
   ]
  },
  {
   "cell_type": "markdown",
   "id": "daf9b2fa",
   "metadata": {},
   "source": [
    "**Here I compare the performance of the five models using various metrics and cross-validation techniques.**"
   ]
  },
  {
   "cell_type": "code",
   "execution_count": 74,
   "id": "1aff712f",
   "metadata": {},
   "outputs": [
    {
     "name": "stdout",
     "output_type": "stream",
     "text": [
      "Logistic Regression Scores\n",
      "Accuracy: 0.952\n",
      "Precision: 0.793\n",
      "Recall: 0.527\n",
      "F1: 0.633\n",
      "\n",
      "Decision Tree Scores\n",
      "Accuracy: 0.958\n",
      "Precision: 0.821\n",
      "Recall: 0.597\n",
      "F1: 0.691\n",
      "\n",
      "Random Forest Scores\n",
      "Accuracy: 0.959\n",
      "Precision: 0.818\n",
      "Recall: 0.608\n",
      "F1: 0.697\n",
      "\n",
      "XGBoost Scores\n",
      "Accuracy: 0.959\n",
      "Precision: 0.815\n",
      "Recall: 0.620\n",
      "F1: 0.704\n",
      "\n",
      "SVM Scores\n",
      "Accuracy: 0.955\n",
      "Precision: 0.742\n",
      "Recall: 0.645\n",
      "F1: 0.690\n",
      "\n"
     ]
    }
   ],
   "source": [
    "from sklearn.model_selection import KFold, cross_validate\n",
    "from sklearn.metrics import accuracy_score, precision_score, recall_score, f1_score\n",
    "\n",
    "# Define the cross-validation method\n",
    "kf = KFold(n_splits=5, shuffle=True, random_state=42)\n",
    "\n",
    "# Define the scoring metrics\n",
    "scoring_metrics = ['accuracy', 'precision', 'recall', 'f1']\n",
    "\n",
    "# Fit and evaluate the models using cross-validation\n",
    "lr_scores = cross_validate(lr, X_train, Y_train, cv=kf, scoring=scoring_metrics)\n",
    "dt_scores = cross_validate(dtc, X_train, Y_train, cv=kf, scoring=scoring_metrics)\n",
    "rf_scores = cross_validate(rfc, X_train, Y_train, cv=kf, scoring=scoring_metrics)\n",
    "xgb_scores = cross_validate(xgb, X_train, Y_train, cv=kf, scoring=scoring_metrics)\n",
    "svm_scores = cross_validate(svm_model, X_train, Y_train, cv=kf, scoring=scoring_metrics)\n",
    "\n",
    "# Print the average scores for each model and metric\n",
    "print('Logistic Regression Scores')\n",
    "for metric in scoring_metrics:\n",
    "    print(f'{metric.capitalize()}: {lr_scores[\"test_\" + metric].mean():.3f}')\n",
    "print()\n",
    "\n",
    "print('Decision Tree Scores')\n",
    "for metric in scoring_metrics:\n",
    "    print(f'{metric.capitalize()}: {dt_scores[\"test_\" + metric].mean():.3f}')\n",
    "print()\n",
    "\n",
    "print('Random Forest Scores')\n",
    "for metric in scoring_metrics:\n",
    "    print(f'{metric.capitalize()}: {rf_scores[\"test_\" + metric].mean():.3f}')\n",
    "print()\n",
    "\n",
    "print('XGBoost Scores')\n",
    "for metric in scoring_metrics:\n",
    "    print(f'{metric.capitalize()}: {xgb_scores[\"test_\" + metric].mean():.3f}')\n",
    "print()\n",
    "\n",
    "print('SVM Scores')\n",
    "for metric in scoring_metrics:\n",
    "    print(f'{metric.capitalize()}: {svm_scores[\"test_\" + metric].mean():.3f}')\n",
    "print()\n"
   ]
  },
  {
   "cell_type": "markdown",
   "id": "cfa0fdd1",
   "metadata": {},
   "source": [
    "This code defines five models (Logistic Regression, Decision Tree, Random Forest, Support vector machine, and XGBoost) and a cross-validation method with 5 folds. It also defines four scoring metrics (accuracy, precision, recall, and F1 score). The cross_validate function is used to fit and evaluate each model using the cross-validation method and the specified scoring metrics. Finally, the average scores for each model and metric are printed.\n",
    "\n",
    "Note: This code assumes that the training data (X_train and Y_train) have already been preprocessed and split. If not, you will need to perform those steps before running this code."
   ]
  },
  {
   "cell_type": "markdown",
   "id": "0eec21ff",
   "metadata": {},
   "source": [
    "**Defining a function to predict the Corona status**"
   ]
  },
  {
   "cell_type": "code",
   "execution_count": 75,
   "id": "0cc6742a",
   "metadata": {},
   "outputs": [
    {
     "name": "stdout",
     "output_type": "stream",
     "text": [
      "The predicted Corona status is: 1\n"
     ]
    }
   ],
   "source": [
    "def predict_corona_status(model, Month, Cough_symptoms_True, Fever_True, Sore_throat_True,\n",
    "                          Shortness_of_breath_True, Headache_True, Age_60_above_Yes, Sex_male,\n",
    "                          Known_contact_Contact_with_confirmed,Known_contact_With_No_One):\n",
    "    input_data = [[Month, Cough_symptoms_True, Fever_True, Sore_throat_True, Shortness_of_breath_True,\n",
    "                   Headache_True, Age_60_above_Yes, Sex_male, Known_contact_Contact_with_confirmed,Known_contact_With_No_One]]\n",
    "    pred = model.predict(input_data)\n",
    "    return pred[0]\n",
    "\n",
    "# Predicting the Corona status using the best performing model (Random Forest)\n",
    "new_data = [3,1,0,0,0,1,1,0,1,1]\n",
    "prediction = predict_corona_status(rfc, *new_data)\n",
    "print('The predicted Corona status is:', prediction)"
   ]
  },
  {
   "cell_type": "markdown",
   "id": "b718d114",
   "metadata": {},
   "source": [
    "In this code, we have defined a function named 'predict_corona_status' that takes in the input_data and a machine learning model as inputs and returns the predicted Corona status. We have used the best performing model (Random Forest) to make the prediction. We have also defined some sample data (new_data) to demonstrate how the function works."
   ]
  },
  {
   "cell_type": "markdown",
   "id": "57fea7a8",
   "metadata": {},
   "source": [
    "**We can use a Voting Ensemble Method to Boost the Performance of our Models**"
   ]
  },
  {
   "cell_type": "code",
   "execution_count": 76,
   "id": "ddfef149",
   "metadata": {},
   "outputs": [
    {
     "name": "stdout",
     "output_type": "stream",
     "text": [
      "Accuracy of the ensemble: 0.9567849150739205\n",
      "The predicted Corona status is: 1\n"
     ]
    }
   ],
   "source": [
    "# Importing the required libraries\n",
    "from sklearn.ensemble import VotingClassifier\n",
    "\n",
    "# Creating a voting ensemble of the best performing models\n",
    "ensemble = VotingClassifier(estimators=[('rfc', rfc), ('lr', lr), ('dtc', dtc), ('svm_model', svm_model)], voting='hard')\n",
    "\n",
    "# Fitting the ensemble on the training data\n",
    "ensemble.fit(X_train, Y_train)\n",
    "\n",
    "# Evaluating the performance of the ensemble on the test data\n",
    "ensemble_accuracy = ensemble.score(X_test, Y_test)\n",
    "print('Accuracy of the ensemble:', ensemble_accuracy)\n",
    "\n",
    "# Predicting the Corona status using the ensemble\n",
    "new_data = [3,1,0,0,0,1,1,0,1,1]\n",
    "prediction = ensemble.predict([new_data])\n",
    "print('The predicted Corona status is:', prediction[0])"
   ]
  },
  {
   "cell_type": "markdown",
   "id": "7cc1dd7f",
   "metadata": {},
   "source": [
    "In this code, we have used the VotingClassifier class from scikit-learn to create a voting ensemble of the best performing models (Random Forest, Logistic Regression, XGboost, Decision Tree, and SVM). We have then trained the ensemble on the training data and evaluated its performance on the test data.\n",
    "\n",
    "We have also defined some sample data (new_data) to demonstrate how the ensemble can be used to make predictions. Finally, we have printed the predicted Corona status based on the input data.\n",
    "\n",
    "Note that we have used the hard voting strategy, which means that the ensemble uses the majority vote of the predictions from its constituent models. Alternatively, we could use the soft voting strategy, which involves averaging the predicted probabilities from the constituent models and using the class with the highest average probability as the final prediction."
   ]
  },
  {
   "cell_type": "markdown",
   "id": "c3dac126",
   "metadata": {},
   "source": [
    "# SOME QUESTIONS TO ANSWER"
   ]
  },
  {
   "cell_type": "markdown",
   "id": "8b40470e",
   "metadata": {},
   "source": [
    "Section 1: Questions to Answer\n",
    "\n",
    "1. Why is your proposal important in today’s world? How predicting a disease accurately can improve medical treatment? \n",
    "\n",
    "1. My proposed approach of using machine learning algorithms to predict diseases is important in today's world because it can help improve medical treatment and patient outcomes. Accurate disease prediction can facilitate early detection, prompt intervention, and targeted treatment planning, which can all contribute to better health outcomes.\n",
    "\n",
    "By predicting diseases accurately, doctors can initiate interventions at an early stage, preventing the progression of the disease and reducing its impact on the patient's health. For example, in the case of cancer, early detection can improve the chances of successful treatment and reduce the need for more aggressive and expensive interventions like surgery, chemotherapy, and radiation.\n",
    "\n",
    "Moreover, predicting diseases accurately can help healthcare providers prioritize their resources and optimize healthcare delivery. It can help them identify high-risk patients and intervene before the disease progresses to a more advanced stage. It can also help them identify patients who are less likely to develop the disease, reducing unnecessary testing, and saving resources.\n",
    "\n",
    "Overall, accurate disease prediction has the potential to revolutionize medical treatment by enabling doctors to identify, treat and manage diseases more effectively.\n",
    "\n",
    "\n",
    "\n",
    "2. How is it going to impact the medical field when it comes to effective screening and reducing health care burden. \n",
    "\n",
    "2. If accurate disease prediction models are implemented in the medical field, it can greatly impact effective screening and reducing healthcare burden. Here are some ways:\n",
    "\n",
    "1.Early detection and prevention: Disease prediction models can help detect diseases at an early stage when treatment is more effective, and preventive measures can be taken to avoid the disease's onset altogether.\n",
    "\n",
    "2.Personalized medicine: With accurate disease prediction models, healthcare providers can develop personalized treatment plans for patients, taking into account their individual risk factors and medical history, thus optimizing treatment and reducing the burden on healthcare systems.\n",
    "\n",
    "3.Resource allocation: With accurate disease prediction models, healthcare providers can better allocate resources and prioritize patients according to their risk factors, reducing wait times and improving overall healthcare efficiency.\n",
    "\n",
    "4.Reduced costs: Early detection and prevention can lead to significant cost savings for both patients and healthcare systems. By avoiding costly hospitalizations and treatments, disease prediction models can help reduce healthcare costs and improve patient outcomes.\n",
    "\n",
    "Overall, accurate disease prediction models can improve healthcare outcomes, reduce healthcare costs, and help allocate resources more effectively, leading to a more efficient and effective healthcare system.\n",
    "\n",
    "\n",
    "\n",
    "3. If any, what is the gap in the knowledge or how your proposed method can be helpful if required in future for any other disease.\n",
    "\n",
    "3. There is always a gap in our understanding of diseases and their treatments. Each disease presents unique challenges, and new research is constantly being conducted to improve our knowledge and treatments.\n",
    "\n",
    "While the current focus may be on a particular disease or condition, the research and knowledge gained from studying it can often be applied to other diseases or conditions as well. For example, advances in gene therapy research for one disease may lead to breakthroughs in treating other genetic disorders.\n",
    "\n",
    "Therefore, any new knowledge gained through research can potentially be helpful in the future for understanding and treating other diseases. The development of new technologies and techniques can also have broader applications beyond a specific disease, and can help to improve overall healthcare outcomes.\n",
    "\n",
    "And I have proposed 5 models for the 'Covid_Prediction' and each model is best of its own but the most recommended method is of the 'XGBoost Model'."
   ]
  },
  {
   "cell_type": "markdown",
   "id": "65bead2c",
   "metadata": {},
   "source": [
    "Section 2: Initial Hypothesis (or hypotheses)\n",
    "    \n",
    "Initial hypothesis:\n",
    "\n",
    "1. There may be a relationship between the presence of cough symptoms, fever, sore throat, shortness of breath, headache, and age 60 and above with the Corona status.\n",
    "2. Known contact and sex may also be important features for predicting the Corona status.\n",
    "3. Machine learning models such as Logistic Regression, Decision Trees, Random Forest, and Support Vector Machines can be used to predict the Corona status.\n",
    "4. Ensemble methods such as stacking or voting may improve the performance of the individual models."
   ]
  },
  {
   "cell_type": "markdown",
   "id": "bdf4a180",
   "metadata": {},
   "source": [
    "Section 3: Data analysis approach\n",
    "\n",
    "1. What approach are you going to take in order to prove or disprove your hypothesis?\n",
    "1. To prove or disprove the initial hypothesis, I will use a supervised machine learning approach. Specifically, I will train several classification models to predict the Corona status based on the given features. I will then evaluate the performance of the models using appropriate metrics such as accuracy, precision, recall, and F1 score. If the models perform well, then the initial hypothesis may be supported. If the models do not perform well, then I may need to revise the initial hypothesis or consider other features.\n",
    "\n",
    "2. What feature engineering techniques will be relevant to your project?\n",
    "2. Some relevant feature engineering techniques for this project may include:\n",
    "\n",
    "Encoding categorical variables such as Sex and Known_contact using one-hot encoding or label encoding.\n",
    "Handling missing values in the dataset, either by imputing them with the mean or median value, or by removing them altogether.\n",
    "Scaling numerical variables such as Age_60_above using standardization or normalization to improve the performance of some models.\n",
    "\n",
    "3. Please justify your data analysis approach?\n",
    "3. The chosen data analysis approach is suitable for this project because the given dataset is a labeled classification problem with a binary outcome variable. The initial hypothesis provides a framework for identifying important features and evaluating the performance of the models. By using multiple machine learning models, we can test the effectiveness of various algorithms and ensemble methods to predict the Corona status. Additionally, by evaluating the models' performance using appropriate metrics, we can make data-driven decisions about which models are most effective for this problem.\n",
    "\n",
    "4. Identify important patterns in your data using the EDA approach to justify your findings?\n",
    "4. To identify important patterns in the data, we can perform exploratory data analysis (EDA). This involves visualizing the data using various graphs and plots to identify trends, outliers, and relationships between variables. For example, we can create histograms to see the distribution of each feature, scatterplots to visualize relationships between pairs of features, and correlation matrices to quantify the strength of the relationships between variables. By performing EDA, we can identify any potential issues with the data, such as missing values or outliers, and gain insights into which features may be most important for predicting the Corona status."
   ]
  },
  {
   "cell_type": "markdown",
   "id": "6a12297c",
   "metadata": {},
   "source": [
    "Section 4: Machine learning approach\n",
    "\n",
    "1. What method will you use for machine learning based predictions of COVID19?\n",
    "1. For machine learning based predictions of COVID19, I will use supervised learning classification models. Specifically, I will train five different models: Logistic Regression, Decision Tree, Random Forest, XGBOOST, and Support Vector Machines (SVM).\n",
    "\n",
    "2. Please justify the most appropriate model.\n",
    "2. The most appropriate model for this problem depends on the characteristics of the dataset and the goals of the analysis. Logistic Regression is a simple and interpretable model that works well with small datasets, but it may not capture complex relationships between the features. Decision Tree models are also interpretable and can capture non-linear relationships, but they are prone to overfitting the training data. Random Forest models can handle non-linear relationships and prevent overfitting by averaging multiple decision trees, but they may be computationally expensive and hard to interpret. SVM models can handle non-linear relationships and are less prone to overfitting, but they may be sensitive to the choice of hyperparameters and can be slow to train. Given these considerations, I will choose Random Forest as the most appropriate model for this problem because it can handle non-linear relationships, prevent overfitting, and produce accurate predictions without being too computationally expensive.\n",
    "\n",
    "3. Please perform necessary steps required to improve the accuracy of your model.\n",
    "3. To improve the accuracy of the Random Forest model, I will perform some necessary steps such as:\n",
    "\n",
    "Feature selection: identify and select the most important features that are strongly correlated with the outcome variable.\n",
    "Hyperparameter tuning: optimize the hyperparameters of the model to improve its performance using grid search or random search methods.\n",
    "Ensemble methods: apply ensemble methods such as bagging or boosting to further improve the performance of the model.\n",
    "Cross-validation: evaluate the performance of the model using cross-validation techniques to estimate its generalization performance on new data.\n",
    "\n",
    "4. Please compare all models (at least 4  models). \n",
    "4. I will compare the performance of the five models using various metrics such as accuracy, precision, recall, and F1 score. Additionally, I will use cross-validation techniques to estimate the models' generalization performance on new data. Based on the results of these comparisons, I will select the best performing model for this problem.\n"
   ]
  },
  {
   "cell_type": "markdown",
   "id": "a08fbbda",
   "metadata": {},
   "source": [
    "# CONCLUSION"
   ]
  },
  {
   "cell_type": "markdown",
   "id": "4c14c24d",
   "metadata": {},
   "source": [
    "In this project, we used machine learning algorithms to predict whether an individual is positive or negative for COVID-19 based on their symptoms and demographic information. We explored the dataset, preprocessed it, and used four different models: Decision Tree, Logistic Regression, Random Forest, XGBoost, and Support Vector Machine (SVM).\n",
    "\n",
    "We evaluated the models based on various metrics such as accuracy, precision, recall, and F1 score. Based on our analysis, we found that Random Forest performed the best among the five models, with an accuracy of 95.9%, a precision of 81.8%, a recall of 60.8%, and an F1 score of 69.7%.\n",
    "\n",
    "Our findings suggest that machine learning algorithms can effectively predict COVID-19 status based on symptoms and demographic information. This could be useful for healthcare providers to identify and isolate COVID-19 positive individuals and prevent the spread of the virus.\n",
    "\n",
    "Overall, our project demonstrates the potential of machine learning algorithms to contribute to the fight against COVID-19. As the dataset used in this project is limited, future research should aim to collect more comprehensive datasets to improve the accuracy and generalizability of the models."
   ]
  },
  {
   "cell_type": "code",
   "execution_count": null,
   "id": "27d98bce",
   "metadata": {},
   "outputs": [],
   "source": []
  }
 ],
 "metadata": {
  "kernelspec": {
   "display_name": "Python 3 (ipykernel)",
   "language": "python",
   "name": "python3"
  },
  "language_info": {
   "codemirror_mode": {
    "name": "ipython",
    "version": 3
   },
   "file_extension": ".py",
   "mimetype": "text/x-python",
   "name": "python",
   "nbconvert_exporter": "python",
   "pygments_lexer": "ipython3",
   "version": "3.9.7"
  }
 },
 "nbformat": 4,
 "nbformat_minor": 5
}
